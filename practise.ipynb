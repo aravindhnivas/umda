{
 "cells": [
  {
   "cell_type": "code",
   "execution_count": 4,
   "metadata": {},
   "outputs": [],
   "source": [
    "from umda.data import load_pipeline\n",
    "from joblib import load\n",
    "\n",
    "from rdkit import Chem\n",
    "from rdkit.Chem import Draw\n",
    "\n",
    "from ipywidgets import widgets\n",
    "import dask.dataframe as dd"
   ]
  },
  {
   "cell_type": "code",
   "execution_count": null,
   "metadata": {},
   "outputs": [],
   "source": []
  },
  {
   "cell_type": "code",
   "execution_count": 2,
   "metadata": {},
   "outputs": [
    {
     "data": {
      "text/plain": [
       "(<umda.classes.EmbeddingModel at 0x1055476d0>,\n",
       " {'linear_regression': Pipeline(steps=[('scaler', StandardScaler()),\n",
       "                  ('regressor', LinearRegression())]),\n",
       "  'ridge': Pipeline(steps=[('scaler', StandardScaler()), ('regressor', Ridge())]),\n",
       "  'br': Pipeline(steps=[('scaler', StandardScaler()),\n",
       "                  ('regressor',\n",
       "                   BayesianRidge(alpha_1=9.8, alpha_2=0.02, alpha_init=1e-05,\n",
       "                                 lambda_1=10000.0, lambda_2=10000.0,\n",
       "                                 lambda_init=0.474, tol=0.0001))]),\n",
       "  'svr': Pipeline(steps=[('scaler', StandardScaler()), ('regressor', SVR())]),\n",
       "  'knn': Pipeline(steps=[('scaler', StandardScaler()),\n",
       "                  ('regressor', KNeighborsRegressor())]),\n",
       "  'rfr': Pipeline(steps=[('scaler', StandardScaler()),\n",
       "                  ('regressor', RandomForestRegressor(random_state=1215677))]),\n",
       "  'gbr': Pipeline(steps=[('scaler', StandardScaler()),\n",
       "                  ('regressor', GradientBoostingRegressor(random_state=1215677))]),\n",
       "  'gpr': Pipeline(steps=[('scaler', StandardScaler()),\n",
       "                  ('regressor',\n",
       "                   GaussianProcessRegressor(kernel=RationalQuadratic(alpha=1, length_scale=1) + DotProduct(sigma_0=1) + WhiteKernel(noise_level=1),\n",
       "                                            random_state=1215677))])},\n",
       " ['linear_regression', 'ridge', 'br', 'svr', 'knn', 'rfr', 'gbr', 'gpr'])"
      ]
     },
     "execution_count": 2,
     "metadata": {},
     "output_type": "execute_result"
    }
   ],
   "source": [
    "embedder = load_pipeline()\n",
    "\n",
    "regressors = load(\"./models/regressors.pkl\")\n",
    "regressor_list = list(regressors.keys())\n",
    "embedder, regressors, regressor_list"
   ]
  },
  {
   "cell_type": "code",
   "execution_count": 3,
   "metadata": {},
   "outputs": [
    {
     "data": {
      "text/plain": [
       "[<PIL.PngImagePlugin.PngImageFile image mode=RGB size=300x300>,\n",
       " <PIL.PngImagePlugin.PngImageFile image mode=RGB size=300x300>,\n",
       " <PIL.PngImagePlugin.PngImageFile image mode=RGB size=300x300>,\n",
       " <PIL.PngImagePlugin.PngImageFile image mode=RGB size=300x300>]"
      ]
     },
     "metadata": {},
     "output_type": "display_data"
    }
   ],
   "source": [
    "SMILES = 'CCC#N, C#CC#[O+], CC1CCCCC1, Cc1ccccc1'\n",
    "\n",
    "images = []\n",
    "for smile in SMILES.split(','):\n",
    "    mol_obj = Chem.MolFromSmiles(smile)\n",
    "    img = Draw.MolToImage(mol_obj)\n",
    "    images.append(img)\n",
    "\n",
    "display(images)\n"
   ]
  }
 ],
 "metadata": {
  "kernelspec": {
   "display_name": "umda-py39",
   "language": "python",
   "name": "python3"
  },
  "language_info": {
   "codemirror_mode": {
    "name": "ipython",
    "version": 3
   },
   "file_extension": ".py",
   "mimetype": "text/x-python",
   "name": "python",
   "nbconvert_exporter": "python",
   "pygments_lexer": "ipython3",
   "version": "3.9.18"
  },
  "orig_nbformat": 4
 },
 "nbformat": 4,
 "nbformat_minor": 2
}
